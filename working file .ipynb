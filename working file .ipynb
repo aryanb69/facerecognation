{
 "cells": [
  {
   "cell_type": "code",
   "execution_count": null,
   "id": "71ba2ebf",
   "metadata": {},
   "outputs": [],
   "source": []
  },
  {
   "cell_type": "code",
   "execution_count": null,
   "id": "097acf26",
   "metadata": {},
   "outputs": [],
   "source": []
  },
  {
   "cell_type": "markdown",
   "id": "89e08c49",
   "metadata": {},
   "source": [
    "import face_recognition\n",
    "import os\n",
    "\n",
    "KNOWN_FACES_FOLDER = \"C:\\\\Users\\\\Win\\\\Desktop\\\\Face Detection\\\\Known Faces\"\n",
    "\n",
    "def load_known_faces():\n",
    "    known_faces = {}\n",
    "    for file_name in os.listdir(KNOWN_FACES_FOLDER):\n",
    "        if file_name.endswith(('.jpg', '.jpeg', '.png')):\n",
    "            face_image = face_recognition.load_image_file(os.path.join(KNOWN_FACES_FOLDER, file_name))\n",
    "            face_encoding = face_recognition.face_encodings(face_image)[0]\n",
    "            known_faces[os.path.splitext(file_name)[0]] = face_encoding\n",
    "    return known_faces\n",
    "\n",
    "def recognize_face(image_path, known_faces):\n",
    "    unknown_image = face_recognition.load_image_file(image_path)\n",
    "    unknown_face_encoding = face_recognition.face_encodings(unknown_image)\n",
    "\n",
    "    if len(unknown_face_encoding) == 0:\n",
    "        print(\"No face found in the provided image.\")\n",
    "        return\n",
    "\n",
    "    for name, known_face_encoding in known_faces.items():\n",
    "        results = face_recognition.compare_faces([known_face_encoding], unknown_face_encoding[0])\n",
    "        if results[0]:\n",
    "            print(f\"Image found! Name: {name}\")\n",
    "            return name\n",
    "\n",
    "    print(\"Image not found in Known Faces.\")\n",
    "    new_name = input(\"Enter the name for this new face: \")\n",
    "    known_faces[new_name] = unknown_face_encoding[0]\n",
    "    print(\"Image added to Known Faces.\")\n",
    "    return new_name\n",
    "\n",
    "if __name__ == \"__main__\":\n",
    "    known_faces = load_known_faces()\n",
    "\n",
    "    image_path = r'C:\\Users\\Win\\Downloads\\akshay kumar.jpeg'\n",
    "    recognized_name = recognize_face(image_path, known_faces)\n",
    "\n",
    "    # Save the updated known faces\n",
    "    if recognized_name:\n",
    "        print(f\"Image found! Name: {recognized_name}\")\n",
    "    else:\n",
    "        print(\"Unable to recognize the face in the provided image.\")\n"
   ]
  },
  {
   "cell_type": "code",
   "execution_count": null,
   "id": "01f9a0d7",
   "metadata": {},
   "outputs": [],
   "source": []
  },
  {
   "cell_type": "code",
   "execution_count": null,
   "id": "180693ad",
   "metadata": {},
   "outputs": [],
   "source": []
  },
  {
   "cell_type": "code",
   "execution_count": 9,
   "id": "7235fa74",
   "metadata": {},
   "outputs": [
    {
     "name": "stdout",
     "output_type": "stream",
     "text": [
      "Enter the path of the uploaded face image: C:\\Users\\Win\\Downloads\\alia bhat.jpeg\n",
      "Face found! alia bhat.\n"
     ]
    }
   ],
   "source": [
    "import os\n",
    "import face_recognition\n",
    "\n",
    "known_faces_folder = r'C:\\Users\\Win\\Desktop\\Face\\Known faces'\n",
    "\n",
    "def find_matching_face(uploaded_image_path):\n",
    "    \n",
    "    uploaded_image = face_recognition.load_image_file(uploaded_image_path)\n",
    "    uploaded_face_encoding = face_recognition.face_encodings(uploaded_image)\n",
    "\n",
    "    if not uploaded_face_encoding:\n",
    "        return None, None\n",
    "\n",
    "    for root, dirs, files in os.walk(known_faces_folder):\n",
    "        for file in files:\n",
    "            known_image_path = os.path.join(root, file)\n",
    "            known_image = face_recognition.load_image_file(known_image_path)\n",
    "            known_face_encoding = face_recognition.face_encodings(known_image)[0]\n",
    "\n",
    "            \n",
    "            matches = face_recognition.compare_faces([known_face_encoding], uploaded_face_encoding[0])\n",
    "\n",
    "            if matches[0]:\n",
    "                return file.split('.')[0], known_image_path\n",
    "\n",
    "    return None, None\n",
    "\n",
    "def main():\n",
    "    \n",
    "    uploaded_image_path = input(\"Enter the path of the uploaded face image: \")\n",
    "\n",
    "  \n",
    "    matched_name, matched_image_path = find_matching_face(uploaded_image_path)\n",
    "\n",
    "    if matched_name:\n",
    "        print(f\"Face found! {matched_name}.\")\n",
    "    else:\n",
    "        print(\"Face not found.\")\n",
    "        upload_option = input(\"Do you want to upload this image to the Known faces folder? (yes/no): \")\n",
    "\n",
    "        if upload_option.lower() == 'yes':\n",
    "            # Ask user\n",
    "            new_name = input(\"Enter the name of the person: \")\n",
    "\n",
    "            \n",
    "            new_image_path = os.path.join(known_faces_folder, f\"{new_name}.jpg\")\n",
    "            os.rename(uploaded_image_path, new_image_path)\n",
    "\n",
    "            print(f\"Image uploaded successfully as {new_name}.jpg.\")\n",
    "\n",
    "if __name__ == \"__main__\":\n",
    "    main()\n"
   ]
  },
  {
   "cell_type": "code",
   "execution_count": null,
   "id": "35b3b144",
   "metadata": {},
   "outputs": [],
   "source": []
  }
 ],
 "metadata": {
  "kernelspec": {
   "display_name": "Python 3 (ipykernel)",
   "language": "python",
   "name": "python3"
  },
  "language_info": {
   "codemirror_mode": {
    "name": "ipython",
    "version": 3
   },
   "file_extension": ".py",
   "mimetype": "text/x-python",
   "name": "python",
   "nbconvert_exporter": "python",
   "pygments_lexer": "ipython3",
   "version": "3.11.4"
  }
 },
 "nbformat": 4,
 "nbformat_minor": 5
}
